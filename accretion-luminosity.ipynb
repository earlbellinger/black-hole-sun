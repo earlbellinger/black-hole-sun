{
 "cells": [
  {
   "cell_type": "markdown",
   "metadata": {},
   "source": [
    "# Solar evolution models with a central black hole\n",
    "\n",
    "### Accretion luminosity\n",
    "\n",
    "\n",
    "[Earl Patrick Bellinger](https://earlbellinger.com)$^{1,2,3}$\n",
    "\n",
    "$^1$_Max Planck Institute for Astrophysics, Garching, Germany_ \\\n",
    "$^2$_Stellar Astrophysics Centre, Aarhus, Denmark_ \\\n",
    "$^3$_Yale University, New Haven, CT_"
   ]
  },
  {
   "cell_type": "code",
   "execution_count": 1,
   "metadata": {
    "ExecuteTime": {
     "end_time": "2023-09-03T21:06:25.075849Z",
     "start_time": "2023-09-03T21:06:23.224886Z"
    }
   },
   "outputs": [],
   "source": [
    "import os\n",
    "\n",
    "import numpy as np\n",
    "import pandas as pd\n",
    "import scipy as sp\n",
    "\n",
    "import matplotlib as mpl\n",
    "import matplotlib.pyplot as plt\n",
    "\n",
    "from scipy import integrate\n",
    "from scipy.optimize import minimize\n",
    "from scipy.interpolate import interp1d\n",
    "\n",
    "from astropy import constants as cnt\n",
    "from astropy import units as unt\n",
    "\n",
    "import dask.dataframe as dd\n",
    "import dask.array as da\n",
    "\n",
    "from uncertainties import ufloat, unumpy\n",
    "\n",
    "from joblib import Parallel, delayed\n",
    "\n",
    "from tqdm.notebook import tqdm\n",
    "\n",
    "from ipywidgets import interact, FloatSlider, IntSlider"
   ]
  },
  {
   "cell_type": "code",
   "execution_count": 2,
   "metadata": {
    "ExecuteTime": {
     "end_time": "2023-09-03T21:06:25.244338Z",
     "start_time": "2023-09-03T21:06:25.077269Z"
    }
   },
   "outputs": [],
   "source": [
    "import seaborn as sns\n",
    "sns.set(style=\"ticks\", palette=\"muted\", rc={\"xtick.bottom\" : True, \"ytick.left\" : True})\n",
    "plt.style.use('figs/thinfig')\n",
    "red = \"#CA0020\"\n",
    "orange = \"#F97100\" \n",
    "blue = \"#0571b0\""
   ]
  },
  {
   "cell_type": "code",
   "execution_count": 3,
   "metadata": {
    "ExecuteTime": {
     "end_time": "2023-09-03T21:06:25.248158Z",
     "start_time": "2023-09-03T21:06:25.245547Z"
    }
   },
   "outputs": [],
   "source": [
    "# labels \n",
    "density     = r'density $\\mathbf{\\rho~/~[g/cm^3]}$'\n",
    "frac_radius = r'fractional radius $\\mathbf{r/R_\\odot}$'\n",
    "frac_mass   = r'fractional mass $\\mathbf{m/M_\\odot}$'\n",
    "Teff        = r'effective temperature $\\mathbf{T_{eff}/K}$'\n",
    "luminosity  = r'luminosity $\\mathbf{L/L_\\odot}$'"
   ]
  },
  {
   "cell_type": "code",
   "execution_count": 4,
   "metadata": {
    "ExecuteTime": {
     "end_time": "2023-09-03T21:06:25.559251Z",
     "start_time": "2023-09-03T21:06:25.249213Z"
    }
   },
   "outputs": [
    {
     "name": "stdout",
     "output_type": "stream",
     "text": [
      "['M=1_MBHf=-12', 'M=1_MBHf=-11', 'M=1_MBHf=-10', 'M=1_MBHf=-4']\n"
     ]
    },
    {
     "data": {
      "text/plain": [
       "{(1.0,\n",
       "  -12.0):           star_age     log_L  log_Teff  center_h1          M_BH    log_LH  \\\n",
       " 0     1.000000e-05  0.144994  3.644801   0.722545  1.000000e-12 -4.684460   \n",
       " 1     2.200000e-05  0.144995  3.644801   0.722545  1.000000e-12 -4.684429   \n",
       " 2     3.640000e-05  0.144994  3.644801   0.722545  1.000000e-12 -4.684392   \n",
       " 3     5.368000e-05  0.144994  3.644801   0.722545  1.000000e-12 -4.684348   \n",
       " 4     7.441600e-05  0.144993  3.644801   0.722545  1.000000e-12 -4.684294   \n",
       " ...            ...       ...       ...        ...           ...       ...   \n",
       " 2043  1.293811e+10  0.336843  3.682091   0.566556  8.872875e-04 -5.378050   \n",
       " 2044  1.295398e+10  0.343422  3.682076   0.566556  9.099932e-04 -5.409983   \n",
       " 2045  1.297303e+10  0.347882  3.682065   0.566556  9.375044e-04 -5.431703   \n",
       " 2046  1.299588e+10  0.356051  3.682040   0.566556  9.711575e-04 -5.471612   \n",
       " 2047  1.300000e+10  0.361596  3.682021   0.566556  1.012187e-03 -5.498808   \n",
       " \n",
       "               L_BH  \n",
       " 0     5.021867e-13  \n",
       " 1     5.021867e-13  \n",
       " 2     5.021867e-13  \n",
       " 3     5.021867e-13  \n",
       " 4     5.021867e-13  \n",
       " ...            ...  \n",
       " 2043  2.174758e+00  \n",
       " 2044  2.208117e+00  \n",
       " 2045  2.229543e+00  \n",
       " 2046  2.272736e+00  \n",
       " 2047  2.309064e+00  \n",
       " \n",
       " [2048 rows x 7 columns],\n",
       " (1.0,\n",
       "  -11.0):          star_age     log_L  log_Teff  center_h1          M_BH     log_LH  \\\n",
       " 0    1.000000e-05  0.144994  3.644801   0.722545  1.000000e-11  -4.684460   \n",
       " 1    2.200000e-05  0.144995  3.644801   0.722545  1.000000e-11  -4.684429   \n",
       " 2    3.640000e-05  0.144994  3.644801   0.722545  1.000000e-11  -4.684392   \n",
       " 3    5.368000e-05  0.144994  3.644801   0.722545  1.000000e-11  -4.684348   \n",
       " 4    7.441600e-05  0.144993  3.644801   0.722545  1.000000e-11  -4.684294   \n",
       " ..            ...       ...       ...        ...           ...        ...   \n",
       " 841  1.275426e+10  1.091552  3.645933   0.669853  2.795422e-02 -10.532655   \n",
       " 842  1.283952e+10  1.099459  3.645626   0.669853  2.887380e-02 -10.594487   \n",
       " 843  1.291581e+10  1.108746  3.645268   0.669853  2.972513e-02 -10.666404   \n",
       " 844  1.297905e+10  1.116082  3.644976   0.669853  3.049994e-02 -10.724945   \n",
       " 845  1.300000e+10  1.122596  3.644716   0.669853  3.115197e-02 -10.776966   \n",
       " \n",
       "              L_BH  \n",
       " 0    5.021867e-11  \n",
       " 1    5.021867e-11  \n",
       " 2    5.021867e-11  \n",
       " 3    5.021867e-11  \n",
       " 4    5.021867e-11  \n",
       " ..            ...  \n",
       " 841  1.234693e+01  \n",
       " 842  1.257385e+01  \n",
       " 843  1.284569e+01  \n",
       " 844  1.306451e+01  \n",
       " 845  1.326245e+01  \n",
       " \n",
       " [846 rows x 7 columns],\n",
       " (1.0,\n",
       "  -10.0):           star_age     log_L  log_Teff  center_h1          M_BH     log_LH  \\\n",
       " 0     1.000000e-05  0.165590  3.645205   0.722545  1.000000e-10  -4.875575   \n",
       " 1     2.200000e-05  0.165591  3.645205   0.722545  1.000000e-10  -4.875544   \n",
       " 2     3.640000e-05  0.165590  3.645205   0.722545  1.000000e-10  -4.875507   \n",
       " 3     5.368000e-05  0.165590  3.645205   0.722545  1.000000e-10  -4.875462   \n",
       " 4     7.441600e-05  0.165589  3.645205   0.722545  1.000000e-10  -4.875408   \n",
       " ...            ...       ...       ...        ...           ...        ...   \n",
       " 1283  1.243182e+10  1.218249  3.633679   0.704481  5.970855e-02 -12.167000   \n",
       " 1284  1.258063e+10  1.220121  3.633426   0.704481  6.130877e-02 -12.224189   \n",
       " 1285  1.275919e+10  1.221796  3.633124   0.704481  6.323646e-02 -12.292159   \n",
       " 1286  1.297347e+10  1.223014  3.632762   0.704481  6.555617e-02 -12.373265   \n",
       " 1287  1.300000e+10  1.223300  3.632325   0.704481  6.834162e-02 -12.472271   \n",
       " \n",
       "               L_BH  \n",
       " 0     4.751629e-09  \n",
       " 1     4.751629e-09  \n",
       " 2     4.751629e-09  \n",
       " 3     4.751629e-09  \n",
       " 4     4.751629e-09  \n",
       " ...            ...  \n",
       " 1283  1.652909e+01  \n",
       " 1284  1.660049e+01  \n",
       " 1285  1.666464e+01  \n",
       " 1286  1.671141e+01  \n",
       " 1287  1.672211e+01  \n",
       " \n",
       " [1288 rows x 7 columns],\n",
       " (1.0,\n",
       "  -4.0):          star_age     log_L  log_Teff  center_h1      M_BH     log_LH  \\\n",
       " 0    1.000000e-05  0.144998  3.644804   0.722545  0.000100  -4.684130   \n",
       " 1    1.800000e-05  0.144999  3.644804   0.722545  0.000100  -4.684109   \n",
       " 2    2.622281e-05  0.144996  3.644804   0.722545  0.000100  -4.684088   \n",
       " 3    3.609019e-05  0.144994  3.644803   0.722545  0.000100  -4.684063   \n",
       " 4    4.793104e-05  0.144992  3.644803   0.722545  0.000100  -4.684032   \n",
       " ..            ...       ...       ...        ...       ...        ...   \n",
       " 390  1.178349e+10  1.203353  3.629065   0.722543  0.075692 -12.741282   \n",
       " 391  1.206571e+10  1.194896  3.628309   0.722543  0.079158 -12.881606   \n",
       " 392  1.240438e+10  1.179763  3.627462   0.722543  0.082477 -13.015525   \n",
       " 393  1.281078e+10  1.158868  3.626259   0.722543  0.086272 -13.179805   \n",
       " 394  1.300000e+10  1.130876  3.624304   0.722543  0.090542 -13.420497   \n",
       " \n",
       "           L_BH  \n",
       " 0     0.389889  \n",
       " 1     0.176820  \n",
       " 2     0.176813  \n",
       " 3     0.176812  \n",
       " 4     0.176811  \n",
       " ..         ...  \n",
       " 390  15.971660  \n",
       " 391  15.663618  \n",
       " 392  15.127193  \n",
       " 393  14.416566  \n",
       " 394  13.516308  \n",
       " \n",
       " [395 rows x 7 columns]}"
      ]
     },
     "execution_count": 4,
     "metadata": {},
     "output_type": "execute_result"
    }
   ],
   "source": [
    "#dirs = os.listdir('sep_pbh_grid/grid')\n",
    "dirs = os.listdir('sep_pbh_grid/grid')\n",
    "dirs = [d for d in dirs if d.startswith('M=')]\n",
    "\n",
    "print(dirs)\n",
    "\n",
    "data = {}\n",
    "for d in dirs:\n",
    "    M, MBHf = d.split('_')\n",
    "    M = float(M[2:])\n",
    "    MBHf = float(MBHf[5:])\n",
    "    file_path = os.path.join('sep_pbh_grid', 'grid', d, 'LOGS', 'history.data')\n",
    "    #file_path = os.path.join('pbh_grid', d, 'history.data')\n",
    "    #print(file)\n",
    "    if not os.path.exists(file_path):\n",
    "        continue\n",
    "    df = pd.read_table(file_path, sep='\\s+', skiprows=5)\n",
    "    data[(M, MBHf)] = df[['star_age', 'log_L', 'log_Teff', 'center_h1', 'M_BH', 'log_LH', 'L_BH']]\n",
    "\n",
    "data"
   ]
  },
  {
   "cell_type": "code",
   "execution_count": 5,
   "metadata": {
    "ExecuteTime": {
     "end_time": "2023-09-03T21:06:26.225255Z",
     "start_time": "2023-09-03T21:06:25.560764Z"
    }
   },
   "outputs": [
    {
     "name": "stdout",
     "output_type": "stream",
     "text": [
      "-6.177168777305171\n"
     ]
    },
    {
     "data": {
      "image/png": "[encoded data removed]",
      "text/plain": [
       "<Figure size 288x360 with 1 Axes>"
      ]
     },
     "metadata": {},
     "output_type": "display_data"
    }
   ],
   "source": [
    "sun = pd.read_table('normal/LOGS/history.data', sep='\\s+', skiprows=5)\n",
    "#sun = pd.read_table('sep_pbh_grid/normal/LOGS/history.data', sep='\\s+', skiprows=5)\n",
    "\n",
    "plt.figure(figsize=(4, 5))\n",
    "\n",
    "norm = mpl.colors.LogNorm(vmin=10**-20, vmax=1)\n",
    "cmap = plt.get_cmap('Reds')\n",
    "\n",
    "plt.axhline(10**0, ls='--', c='k', label=r'L$_\\odot$')\n",
    "plt.axvline(4.572, ls='--', c='k')\n",
    "\n",
    "plt.plot(sun['star_age']/1e9, 10**sun['log_L'], lw=10, c='lightgray', zorder=-99, label=r'$L_\\ast$')\n",
    "plt.plot(sun['star_age']/1e9, 10**sun['log_LH'], lw=3, c=\"#dc576c\", label='fusion')\n",
    "\n",
    "print((sun['star_age'][(10**sun['log_L']<=1).argmin()])/1e9 - (sun['star_age'][(10**sun['log_L']<=2).argmin()])/1e9)\n",
    "\n",
    "plt.semilogy()\n",
    "#plt.ylim([1e-2, 1.2e2])\n",
    "plt.ylim([0.5e-2, 30])\n",
    "plt.gca().set_yticks([10**-2, 10**-1, 1, 10])\n",
    "plt.gca().set_yticklabels(['0.01', '0.1', '1', '10'])\n",
    "\n",
    "plt.xlim([0, 13.8])#12.5])\n",
    "\n",
    "plt.legend()\n",
    "\n",
    "plt.title(r'no black hole')\n",
    "#plt.legend()\n",
    "plt.xlabel('age [Gyr]')\n",
    "plt.ylabel(r'luminosity [L$_{\\mathbf{\\odot}}$]')\n",
    "#plt.colorbar(plt.cm.ScalarMappable(cmap=cmap, norm=norm), label=r'black hole mass [M$_{\\mathbf{\\odot}}$]')\n",
    "#plt.semilogy()\n",
    "plt.tight_layout()\n",
    "plt.savefig('figs/age-lum-0.pdf')\n",
    "plt.show()"
   ]
  },
  {
   "cell_type": "code",
   "execution_count": 6,
   "metadata": {
    "ExecuteTime": {
     "end_time": "2023-09-03T21:06:26.602485Z",
     "start_time": "2023-09-03T21:06:26.226377Z"
    }
   },
   "outputs": [
    {
     "name": "stdout",
     "output_type": "stream",
     "text": [
      "6.566454703185441\n",
      "5.70362171810285\n",
      "6.566454703185441\n",
      "-0.8628329850825911\n",
      "-0.8357938603312132\n",
      "1.6508670218623889e-06\n",
      "-6.0\n",
      "-5.0\n",
      "-4.0\n",
      "-3.0\n",
      "-2.0\n"
     ]
    },
    {
     "data": {
      "image/png": "[encoded data removed]",
      "text/plain": [
       "<Figure size 288x360 with 1 Axes>"
      ]
     },
     "metadata": {},
     "output_type": "display_data"
    }
   ],
   "source": [
    "plt.figure(figsize=(4, 5))\n",
    "\n",
    "norm = mpl.colors.LogNorm(vmin=10**-20, vmax=1)\n",
    "cmap = plt.get_cmap('Reds')\n",
    "\n",
    "for key, df in data.items():\n",
    "    M, MBHf = key\n",
    "    if M == 1.0 and MBHf==-11:\n",
    "        df = df[df['center_h1'] < df['center_h1'].values[0]*0.995].reset_index()\n",
    "        \n",
    "        plt.plot(df['star_age']/1e9, 10**df['log_L'], lw=10, c='lightgray', zorder=-99, label=r'$L_\\ast$')\n",
    "        plt.plot(df['star_age']/1e9, 10**df['log_LH'], lw=3, c=\"#dc576c\", label='fusion', zorder=99)#, c=cmap(norm(10**MBHf)))\n",
    "        plt.plot(df['star_age']/1e9, df['L_BH'], lw=3, c='#444444', label='accretion', zorder=99)#, c=cmap(norm(10**MBHf)))\n",
    "        \n",
    "        print((df['star_age'][(df['L_BH']<=1).argmin()])/1e9)\n",
    "        print((df['star_age'][(df['L_BH']<=0.01).argmin()])/1e9)\n",
    "        print((df['star_age'][(df['L_BH']<=1).argmin()])/1e9)\n",
    "        print((df['star_age'][(df['L_BH']<=0.01).argmin()] - df['star_age'][(df['L_BH']<=1).argmin()])/1e9)\n",
    "        print((df['star_age'][(df['L_BH']<=1).argmin()])/1e9 - (df['star_age'][(df['L_BH']<=2).argmin()])/1e9)\n",
    "        print(df['M_BH'][np.argmin(df['L_BH']<0.01)])\n",
    "        \n",
    "        LBH_func = interp1d(df['star_age']/1e9, df['L_BH'])\n",
    "        MBH_func = interp1d(df['M_BH'], df['star_age']/1e9)\n",
    "        masses = np.linspace(-6, -2, num=5)\n",
    "        for mass in masses:\n",
    "            print(mass)\n",
    "            MBH_at_age = MBH_func(10**mass)\n",
    "            L_BH_at_age = LBH_func(MBH_at_age)\n",
    "            plt.plot(MBH_at_age, L_BH_at_age, 'o', c='#000000', zorder=99, ms=(15/-mass)**0.9)\n",
    "            if mass != -4 and mass != -6 and mass != -1 and mass != -5:\n",
    "                plt.text(0.98*MBH_at_age - (0.3 if mass == -2 else -0.1 if mass == -5 else 0), \n",
    "                         L_BH_at_age, r\"$10^{\"+str(int(mass))+\"}$\", ha='right', size=14,\n",
    "                    zorder=9999999)\n",
    "            elif mass == -4: \n",
    "                plt.text(MBH_at_age + 0.25, L_BH_at_age*0.7, \n",
    "                         r\"$M_{\\rm{BH}} = 10^{\"+str(int(mass))+\"}$ M$_\\odot$\", ha='left', size=14,\n",
    "                    zorder=9999999)\n",
    "            elif mass == -5:\n",
    "                plt.text(MBH_at_age + 0.4, L_BH_at_age*0.8, \n",
    "                         r\"$10^{\"+str(int(mass))+\"}$\", ha='left', size=14,\n",
    "                    zorder=9999999)\n",
    "\n",
    "plt.axhline(10**0, ls='--', c='k')\n",
    "plt.axvline(4.572, ls='--', c='k')\n",
    "\n",
    "plt.semilogy()\n",
    "plt.ylim([0.5e-2, 30])\n",
    "plt.gca().set_yticks([10**-2, 10**-1, 1, 10])\n",
    "plt.gca().set_yticklabels(['0.01', '0.1', '1', '10'])\n",
    "\n",
    "plt.title(r'initial $M_{BH} = 10^{-11}~\\rm{M}_\\odot$')\n",
    "plt.xlim([0, 13.8])#12.5])\n",
    "plt.xlabel('age [Gyr]')\n",
    "plt.ylabel(r'luminosity [L$_{\\mathbf{\\odot}}$]')\n",
    "\n",
    "\n",
    "plt.tight_layout()\n",
    "plt.savefig('figs/age-lum-11.pdf')\n",
    "plt.show()"
   ]
  },
  {
   "cell_type": "code",
   "execution_count": 7,
   "metadata": {
    "ExecuteTime": {
     "end_time": "2023-09-03T21:06:27.037378Z",
     "start_time": "2023-09-03T21:06:26.603615Z"
    }
   },
   "outputs": [
    {
     "name": "stdout",
     "output_type": "stream",
     "text": [
      "7.203156603135554e-05\n",
      "1.146526849190823e-06\n",
      "1.8471671056260524\n",
      "2.9697058340209694\n",
      "-1.122538728394917\n",
      "-0.9347510771882424\n"
     ]
    },
    {
     "data": {
      "image/png": "[encoded data removed]",
      "text/plain": [
       "<Figure size 288x360 with 1 Axes>"
      ]
     },
     "metadata": {},
     "output_type": "display_data"
    }
   ],
   "source": [
    "plt.figure(figsize=(4, 5))\n",
    "\n",
    "norm = mpl.colors.LogNorm(vmin=10**-20, vmax=1)\n",
    "cmap = plt.get_cmap('Reds')\n",
    "\n",
    "plt.axhline(10**0, ls='--', c='k')#, label=r'L$_\\odot$')\n",
    "plt.axvline(4.572, ls='--', c='k')\n",
    "\n",
    "for key, df in data.items():\n",
    "    M, MBHf = key\n",
    "    if M == 1.0 and MBHf==-10:\n",
    "        #df = df[df.star_age < df.star_age.values[-1]*.99]\n",
    "        df = df[df['center_h1'] < df['center_h1'].values[0]*0.995].reset_index()\n",
    "        \n",
    "        plt.plot(df['star_age']/1e9, 10**df['log_L'], lw=10, c='lightgray', zorder=-99)\n",
    "        plt.plot(df['star_age']/1e9, 10**df['log_LH'], lw=3, c=\"#dc576c\", zorder=99)#, c=cmap(norm(10**MBHf)))\n",
    "        plt.plot(df['star_age']/1e9, df['L_BH'], lw=3, c='#444444', label='accretion', zorder=99)#, c=cmap(norm(10**MBHf)))\n",
    "        print(df['M_BH'][np.argmin(df['L_BH']<10**df['log_LH'])])\n",
    "        print(df['M_BH'][np.argmin(df['L_BH']<0.01*10**df['log_LH'])])\n",
    "        #print(df['M_BH'])\n",
    "        #plt.scatter(10**df['log_Teff'], 10**df['log_L'], c=df['star_age']/1e9, \n",
    "        #            alpha=1)\n",
    "        print((df['star_age'][(df['L_BH']<=0.01).argmin()])/1e9)\n",
    "        print((df['star_age'][(df['L_BH']<=1).argmin()])/1e9)\n",
    "        print((df['star_age'][(df['L_BH']<=0.01).argmin()] - df['star_age'][(df['L_BH']<=1).argmin()])/1e9)\n",
    "        print((df['star_age'][(df['L_BH']<=1).argmin()])/1e9 - (df['star_age'][(df['L_BH']<=2).argmin()])/1e9)\n",
    "        \n",
    "        \n",
    "        \n",
    "        LBH_func = interp1d(df['star_age']/1e9, df['L_BH'])\n",
    "        MBH_func = interp1d(df['M_BH'], df['star_age']/1e9)\n",
    "        masses = np.linspace(-6, -2, num=5)#np.logspace(-6, -1, num=6)\n",
    "        for mass in masses:\n",
    "            MBH_at_age = MBH_func(10**mass)\n",
    "            L_BH_at_age = LBH_func(MBH_at_age)\n",
    "            plt.plot(MBH_at_age, L_BH_at_age, 'ko', zorder=99, ms=(15/-mass)**0.9)\n",
    "            if mass != -4 and mass != -2 and mass != -6 and mass != -1:\n",
    "                plt.text(0.95*MBH_at_age - (0.3 if mass == -2 else -0.1 if mass == -5 else 0), \n",
    "                         L_BH_at_age, r\"$10^{\"+str(int(mass))+\"}$\", ha='right', size=14,\n",
    "                    zorder=9999999)\n",
    "            elif mass == -2: \n",
    "                plt.text(MBH_at_age + 0.3, L_BH_at_age*0.7, \n",
    "                         r\"$M_{\\rm{BH}} = 10^{\"+str(int(mass))+\"}$ M$_\\odot$\", \n",
    "                         ha='left', size=14,\n",
    "                         zorder=9999999)\n",
    "                \n",
    "#plt.semilogy()\n",
    "plt.xlim([0, 13.5])#12.5])\n",
    "plt.title(r'initial $M_{BH} = 10^{-10}~\\rm{M}_\\odot$')\n",
    "\n",
    "\n",
    "plt.semilogy()\n",
    "plt.ylim([0.5e-2, 30])\n",
    "plt.gca().set_yticks([10**-2, 10**-1, 1, 10])\n",
    "plt.gca().set_yticklabels(['0.01', '0.1', '1', '10'])\n",
    "\n",
    "plt.xlim([0, 13.8])#12.5])\n",
    "\n",
    "plt.legend()\n",
    "plt.xlabel('age [Gyr]')\n",
    "plt.ylabel(r'luminosity [L$_{\\mathbf{\\odot}}$]')\n",
    "#plt.colorbar(plt.cm.ScalarMappable(cmap=cmap, norm=norm), label=r'black hole mass [M$_{\\mathbf{\\odot}}$]')\n",
    "#plt.semilogy()\n",
    "plt.tight_layout()\n",
    "plt.savefig('figs/age-lum-10.pdf')\n",
    "plt.show()"
   ]
  },
  {
   "cell_type": "code",
   "execution_count": 8,
   "metadata": {
    "ExecuteTime": {
     "end_time": "2023-09-03T21:06:27.168815Z",
     "start_time": "2023-09-03T21:06:27.038393Z"
    }
   },
   "outputs": [
    {
     "name": "stdout",
     "output_type": "stream",
     "text": [
      "0.45267204415141216\n"
     ]
    },
    {
     "data": {
      "text/plain": [
       "(6.5, 7.5)"
      ]
     },
     "execution_count": 8,
     "metadata": {},
     "output_type": "execute_result"
    },
    {
     "data": {
      "image/png": "[encoded data removed]",
      "text/plain": [
       "<Figure size 288x360 with 1 Axes>"
      ]
     },
     "metadata": {},
     "output_type": "display_data"
    }
   ],
   "source": [
    "plt.figure(figsize=(4, 5))\n",
    "\n",
    "norm = mpl.colors.LogNorm(vmin=10**-20, vmax=1)\n",
    "cmap = plt.get_cmap('Reds')\n",
    "\n",
    "for key, df in data.items():\n",
    "    M, MBHf = key\n",
    "    if M == 1.0 and MBHf==-11:\n",
    "        plt.plot(df['star_age']/1e9, 10**df['log_L'], lw=10, c='gray', zorder=-99, label=r'$L_\\ast$')\n",
    "        plt.plot(df['star_age']/1e9, 10**df['log_LH'], lw=3, c=red, label='fusion', zorder=99)#, c=cmap(norm(10**MBHf)))\n",
    "        plt.plot(df['star_age']/1e9, df['L_BH'], lw=3, c=orange, label='accretion', zorder=99)#, c=cmap(norm(10**MBHf)))\n",
    "        \n",
    "        print(10**df['log_L'].min())\n",
    "\n",
    "plt.axhline(1, ls='--', c='k')\n",
    "plt.axvline(6.8)\n",
    "plt.axvline(6.92)\n",
    "plt.axvline(7.25)\n",
    "plt.axhline(0.52)\n",
    "plt.ylim([0.8, 2e0])\n",
    "plt.xlim([6.5,7.5])\n",
    "#plt.semilogy()"
   ]
  }
 ],
 "metadata": {
  "kernelspec": {
   "display_name": "Python 3 (ipykernel)",
   "language": "python",
   "name": "python3"
  },
  "language_info": {
   "codemirror_mode": {
    "name": "ipython",
    "version": 3
   },
   "file_extension": ".py",
   "mimetype": "text/x-python",
   "name": "python",
   "nbconvert_exporter": "python",
   "pygments_lexer": "ipython3",
   "version": "3.8.16"
  },
  "toc": {
   "base_numbering": 1,
   "nav_menu": {},
   "number_sections": true,
   "sideBar": true,
   "skip_h1_title": false,
   "title_cell": "Table of Contents",
   "title_sidebar": "Contents",
   "toc_cell": false,
   "toc_position": {},
   "toc_section_display": true,
   "toc_window_display": true
  },
  "varInspector": {
   "cols": {
    "lenName": 16,
    "lenType": 16,
    "lenVar": 40
   },
   "kernels_config": {
    "python": {
     "delete_cmd_postfix": "",
     "delete_cmd_prefix": "del ",
     "library": "var_list.py",
     "varRefreshCmd": "print(var_dic_list())"
    },
    "r": {
     "delete_cmd_postfix": ") ",
     "delete_cmd_prefix": "rm(",
     "library": "var_list.r",
     "varRefreshCmd": "cat(var_dic_list()) "
    }
   },
   "types_to_exclude": [
    "module",
    "function",
    "builtin_function_or_method",
    "instance",
    "_Feature"
   ],
   "window_display": false
  }
 },
 "nbformat": 4,
 "nbformat_minor": 4
}
